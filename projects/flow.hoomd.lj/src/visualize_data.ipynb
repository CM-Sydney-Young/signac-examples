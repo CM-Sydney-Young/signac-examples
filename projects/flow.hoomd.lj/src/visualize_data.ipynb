{
 "cells": [
  {
   "cell_type": "code",
   "execution_count": 3,
   "metadata": {},
   "outputs": [
    {
     "name": "stdout",
     "output_type": "stream",
     "text": [
      "1.2.0\n",
      "0.9.0\n"
     ]
    }
   ],
   "source": [
    "import signac\n",
    "import flow\n",
    "import numpy as np\n",
    "\n",
    "from project import MyProject\n",
    "\n",
    "print(signac.__version__)\n",
    "print(flow.__version__)"
   ]
  },
  {
   "cell_type": "markdown",
   "metadata": {},
   "source": [
    "### Before running this notebook:\n",
    "\n",
    "First, run `python init.py` at least once to initialize the project. \n",
    "\n",
    "Then, run `python project.py run`, which will run all the operations in `project.py`.\n",
    "\n",
    "Then, we get obtain a project handle."
   ]
  },
  {
   "cell_type": "code",
   "execution_count": 8,
   "metadata": {},
   "outputs": [
    {
     "name": "stdout",
     "output_type": "stream",
     "text": [
      "Ideal-Gas-Example-Project\n"
     ]
    }
   ],
   "source": [
    "project = MyProject()\n",
    "print(project)"
   ]
  },
  {
   "cell_type": "markdown",
   "metadata": {},
   "source": [
    "Just like on the command line, we can display the project's status:"
   ]
  },
  {
   "cell_type": "code",
   "execution_count": 9,
   "metadata": {
    "scrolled": false
   },
   "outputs": [
    {
     "name": "stderr",
     "output_type": "stream",
     "text": [
      "Collecting job status info: 100%|██████████| 10/10 [00:00<00:00, 644.20it/s]"
     ]
    },
    {
     "name": "stdout",
     "output_type": "stream",
     "text": [
      "\n",
      "Overview:\n",
      "\n",
      "Total # of jobs: 10\n",
      "\n",
      "label        ratio\n",
      "-----------  --------------------------------------------------\n",
      "started      |████████████████████████████████████████| 100.00%\n",
      "sampled      |████████████████████████████████████████| 100.00%\n",
      "initialized  |████████████████████████████████████████| 100.00%\n",
      "estimated    |████████████████████████████████████████| 100.00%\n",
      "\n",
      "operation\n",
      "-----------\n",
      "\n",
      "\n",
      "Detailed View:\n",
      "\n",
      "job_id                            operation      p  labels\n",
      "--------------------------------  -----------  ---  ----------------------------------------\n",
      "20a9d48f7c3d95338db53b3dcf6d4577  [ ]          0.5  estimated, initialized, sampled, started\n",
      "5d7a5c7d67a54ffd4ea1c1465ee1150d  [ ]          4    estimated, initialized, sampled, started\n",
      "9ad9a85e7580593b374f2ffb48d584c4  [ ]          2    estimated, initialized, sampled, started\n",
      "e439a301971f9dcecb1905609f2389d0  [ ]          2.5  estimated, initialized, sampled, started\n",
      "15be99b6d7aaa607a1c03adb986f3552  [ ]          3    estimated, initialized, sampled, started\n",
      "87c7fccdea3531da704bbae95e95e914  [ ]          4.5  estimated, initialized, sampled, started\n",
      "4b0e73c348dcea9233a80730dd1e32fd  [ ]          1.5  estimated, initialized, sampled, started\n",
      "eeba034328698f207531960be91b3f38  [ ]          5    estimated, initialized, sampled, started\n",
      "56f28903900ad94884481d998a9194e8  [ ]          3.5  estimated, initialized, sampled, started\n",
      "5f0d7e4cccdc8ade0a1bb49ef21d303e  [ ]          1    estimated, initialized, sampled, started\n",
      "\n",
      "[U]:unknown [R]:registered [I]:inactive [S]:submitted [H]:held [Q]:queued [A]:active [E]:error\n",
      "\n",
      "\n"
     ]
    },
    {
     "name": "stderr",
     "output_type": "stream",
     "text": [
      "\n"
     ]
    },
    {
     "data": {
      "text/plain": [
       "<flow.render_status.Renderer at 0x1171726a0>"
      ]
     },
     "execution_count": 9,
     "metadata": {},
     "output_type": "execute_result"
    }
   ],
   "source": [
    "project.print_status(detailed=True, parameters=['p'])"
   ]
  },
  {
   "cell_type": "markdown",
   "metadata": {},
   "source": [
    "We want to compare the volume estimate using the ideal gas law and the measurements from the molecular dynamics simulation.\n",
    "\n",
    "We implement the `get_volume()` function to extract the volume from the log file."
   ]
  },
  {
   "cell_type": "code",
   "execution_count": 10,
   "metadata": {},
   "outputs": [
    {
     "name": "stdout",
     "output_type": "stream",
     "text": [
      "0.5 1139.3264905719998\n",
      "4.0 614.750191224\n",
      "2.0 741.011125508\n",
      "2.5 686.3928969000001\n",
      "3.0 662.2078703\n",
      "4.5 600.001185592\n",
      "1.5 791.728728196\n",
      "5.0 593.777573608\n",
      "3.5 634.2033970919999\n",
      "1.0 903.9505265920001\n"
     ]
    }
   ],
   "source": [
    "def get_volume(job):\n",
    "    try:\n",
    "        log = np.genfromtxt(job.fn('dump.log'), names=True)\n",
    "        N = len(log)\n",
    "        return log[int(0.5 * N):]['volume'].mean(axis=0)\n",
    "    except OSError:\n",
    "        pass\n",
    "\n",
    "for job in project.find_jobs():\n",
    "    print(job.statepoint()['p'], get_volume(job))"
   ]
  },
  {
   "cell_type": "markdown",
   "metadata": {},
   "source": [
    "For a better presentation of the results we need to aggregate all results and sort them by pressure.\n",
    "\n",
    "*The following code requires matplotlib.*"
   ]
  },
  {
   "cell_type": "code",
   "execution_count": 11,
   "metadata": {
    "scrolled": true
   },
   "outputs": [
    {
     "data": {
      "text/plain": [
       "<matplotlib.legend.Legend at 0x1173c6a30>"
      ]
     },
     "execution_count": 11,
     "metadata": {},
     "output_type": "execute_result"
    },
    {
     "data": {
      "image/png": "[encoded data removed]",
      "text/plain": [
       "<Figure size 432x288 with 1 Axes>"
      ]
     },
     "metadata": {
      "needs_background": "light"
     },
     "output_type": "display_data"
    }
   ],
   "source": [
    "# Display plots within the notebook\n",
    "from matplotlib import pyplot as plt\n",
    "%matplotlib inline\n",
    "\n",
    "V = dict()\n",
    "V_idg = dict()\n",
    "\n",
    "for job in project.find_jobs():\n",
    "    V[job.statepoint()['p']] = get_volume(job)\n",
    "    V_idg[job.statepoint()['p']] = job.document['volume_estimate']\n",
    "    \n",
    "p = sorted(V.keys())\n",
    "V = [V[p_] for p_ in p]\n",
    "V_idg = [V_idg[p_] for p_ in p]\n",
    "\n",
    "plt.plot(p, V, label='LJ')\n",
    "plt.plot(p, V_idg, label='idG')\n",
    "plt.xlabel(r'pressure [$\\epsilon / \\sigma^3$]')\n",
    "plt.ylabel(r'volume [$\\sigma^3$]')\n",
    "plt.legend()"
   ]
  },
  {
   "cell_type": "code",
   "execution_count": null,
   "metadata": {
    "collapsed": true
   },
   "outputs": [],
   "source": []
  }
 ],
 "metadata": {
  "kernelspec": {
   "display_name": "Python 3",
   "language": "python",
   "name": "python3"
  },
  "language_info": {
   "codemirror_mode": {
    "name": "ipython",
    "version": 3
   },
   "file_extension": ".py",
   "mimetype": "text/x-python",
   "name": "python",
   "nbconvert_exporter": "python",
   "pygments_lexer": "ipython3",
   "version": "3.8.1"
  }
 },
 "nbformat": 4,
 "nbformat_minor": 1
}
