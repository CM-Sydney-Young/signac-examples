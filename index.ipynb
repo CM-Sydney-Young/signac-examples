{
 "cells": [
  {
   "cell_type": "markdown",
   "metadata": {},
   "source": [
    "# signac - Tutorial\n",
    "\n",
    "This tutorial demonstrates how to implement a basic computational workflow with signac.\n",
    "The signac framework assists us in conducting a computational investigation by managing the data space for us.\n",
    "This means that we do not need to worry about how to organize our data on disk and how to keep track of meta data.\n",
    "\n",
    "## The Basics\n",
    "\n",
    "The sections in this chapter demonstrate how to use signac for data space management and also show how to implement a very basic workflow.\n",
    "\n",
    "* [1.1 Getting Started](signac - 1.1 Getting Started.ipynb)\n",
    "* [1.2 Exploring Data](signac - 1.2 Exploring Data.ipynb)\n",
    "* [1.3 A Complete Workflow](signac - 1.3 A Complete Workflow.ipynb)\n",
    "* [1.4 Modifying the Data Space](signac - 1.4 Modifying the Data Space.ipynb)\n",
    "\n",
    "## Advanced Topics\n",
    "\n",
    "Once you have mastered the basic signac functionalities, you can dive into more advanced topics, such as indexing and integration with other tools such as pandas and databases.\n",
    "\n",
    "* [2.1 Advanced indexing](signac - 2.1 Advanced Indexing.ipynb)\n",
    "* [2.2 Integration with pandas](signac - 2.2 Integration with pandas.ipynb)\n",
    "* [2.3 Integration with Databases](signac - 2.3 Database Integration.ipynb)"
   ]
  }
 ],
 "metadata": {
  "anaconda-cloud": {},
  "kernelspec": {
   "display_name": "Python [conda env:signac-py35]",
   "language": "python",
   "name": "conda-env-signac-py35-py"
  },
  "language_info": {
   "codemirror_mode": {
    "name": "ipython",
    "version": 3
   },
   "file_extension": ".py",
   "mimetype": "text/x-python",
   "name": "python",
   "nbconvert_exporter": "python",
   "pygments_lexer": "ipython3",
   "version": "3.5.2"
  }
 },
 "nbformat": 4,
 "nbformat_minor": 1
}
