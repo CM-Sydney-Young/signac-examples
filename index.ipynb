{
 "cells": [
  {
   "cell_type": "markdown",
   "metadata": {},
   "source": [
    "# signac - Tutorial and Examples\n",
    "\n",
    "This collection of jupyter notebooks serves as a tutorial on how to implement a basic computational workflow using the [**signac**](https://glotzerlab.engin.umich.edu/signac) data management framework.\n",
    "The **signac** framework assists users in managing a (possibly highly complex) data space for example by simplifying provenance tracking and meta data management.\n",
    "\n",
    "## The Basics\n",
    "\n",
    "The sections within this chapter introduce the basic **signac** application interface and demonstrate how to implement  a simple, but complete computational workflow.\n",
    "\n",
    "* [1.1 Getting Started](tutorial/basic/signac - 1.1 Getting Started.ipynb)\n",
    "* [1.2 Exploring Data](tutorial/basic/signac - 1.2 Exploring Data.ipynb)\n",
    "* [1.3 A Basic Workflow](tutorial/basic/signac - 1.3 A Basic Workflow.ipynb)\n",
    "* [1.4 Modifying the Data Space](tutorial/basic/signac - 1.4 Modifying the Data Space.ipynb)\n",
    "* [1.5 Command Line Interface (CLI)](tutorial/basic/signac - 1.5 Command Line Interface.ipynb)\n",
    "\n",
    "## Advanced Topics\n",
    "\n",
    "Onnce you have mastered the basic **signac** functionalities, you can dive into slightly more advanced topics, such as data space indexing and the integration of other tools, such as pandas and databases.\n",
    "Since not all topics within this chapter are necessarily of interest to everyone, sections are less consecutive.\n",
    "Feel free to pick a topic of interest!\n",
    "\n",
    "* [2.1 Advanced indexing](tutorial/advanced/signac - 2.1 Advanced Indexing.ipynb)\n",
    "* [2.2 Integration with pandas](tutorial/advanced/signac - 2.2 Integration with pandas.ipynb)\n",
    "* [2.3 Integration with Databases](tutorial/advanced/signac - 2.3 Database Integration.ipynb)\n",
    "* [2.4 Integration of external Tools](tutorial/advanced/signac - 2.4 External Tools.ipynb)\n",
    "\n",
    "## signac-flow\n",
    "\n",
    "The [**signac-flow** package](https://bitbucket.org/glotzer/signac-flow) implements the basic logic and routines introduced in section 1.3 and thus provides the basic infrastructure required for rapid workflow development.\n",
    "\n",
    "* [3.1 Ideal Gas Project](tutorial/flow/signac-flow - Ideal Gas Example.ipynb)\n",
    "* [3.2 Lennard-Jones HOOMD-blue project](tutorial/flow/signac-flow - HOOMD-blue.ipynb)"
   ]
  }
 ],
 "metadata": {
  "language_info": {
   "codemirror_mode": {
    "name": "ipython",
    "version": 3
   },
   "file_extension": ".py",
   "mimetype": "text/x-python",
   "name": "python",
   "nbconvert_exporter": "python",
   "pygments_lexer": "ipython3",
   "version": "3.5.2"
  }
 },
 "nbformat": 4,
 "nbformat_minor": 1
}
