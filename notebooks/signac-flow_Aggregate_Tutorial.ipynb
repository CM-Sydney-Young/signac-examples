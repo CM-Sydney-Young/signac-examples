{
 "cells": [
  {
   "cell_type": "markdown",
   "metadata": {},
   "source": [
    "# 3.3 signac-flow aggregation example\n",
    "\n",
    "## About\n",
    "\n",
    "This notebook contains a minimal example for running a signac-flow's **aggregation** feature which is not released yet.\n",
    "The example demonstrates how to compare an ideal gas with a lennard jones fluid by calculating a p-V phase diagram.\n",
    "\n",
    "## Author\n",
    "\n",
    "Hardik Ojha\n",
    "\n",
    "## Before you start\n",
    "\n",
    "Make sure you installed signac. Since this work is under progress hence you'd need to clone the signac-flow repository from git into your system and install it in your virtual enviroment in editable mode.\n",
    "You can follow these steps to install signac-flow:\n",
    "\n",
    "```\n",
    "git clone https://github.com/glotzerlab/signac-flow.git\n",
    "pip install -e signac-flow\n",
    "cd signac-flow/\n",
    "git checkout feature/introduce-aggregator-classes\n",
    "```\n",
    "\n",
    "You can find the work done on the branch ``feature/introduce-aggregator-classes`` here: https://github.com/glotzerlab/signac-flow/pull/336"
   ]
  },
  {
   "cell_type": "code",
   "execution_count": null,
   "metadata": {},
   "outputs": [],
   "source": [
    "import random\n",
    "\n",
    "import signac\n",
    "from flow import FlowProject, Aggregate, make_aggregates\n",
    "import matplotlib.pyplot as plt\n",
    "import numpy as np\n",
    "\n",
    "# Enter the signac project directory\n",
    "project = signac.init_project('AggregationTutorialProject', 'projects/tutorial-aggregation')"
   ]
  },
  {
   "cell_type": "markdown",
   "metadata": {},
   "source": [
    "# Creating an operation\n",
    "\n",
    "We aim to generate a plot of temperatures (in °C) v/s days of a month having 31 days. After that, we compare that plot with the average temperature of that month.\n",
    "\n",
    "Firstly, we will create an operation which is supposed to aggregate all jobs, using the ``Aggregate`` class, and plot the data, using ``matplotlib``. "
   ]
  },
  {
   "cell_type": "code",
   "execution_count": null,
   "metadata": {},
   "outputs": [],
   "source": [
    "class MyProject(FlowProject):\n",
    "    pass\n",
    "\n",
    "@Aggregate(sort='day')\n",
    "@MyProject.operation\n",
    "def plot_average_temperature(*jobs):\n",
    "    temp = [job.sp.temperature for job in jobs]\n",
    "    days = [job.sp.day for job in jobs]\n",
    "    average_temp = sum(temp)/len(temp)\n",
    "    plt.figure(figsize=(7, 7))\n",
    "    plt.plot(days, [average_temp]*len(days), 'b')\n",
    "    plt.plot(days, temp, 'r')\n",
    "    plt.xlabel('Day')\n",
    "    plt.ylabel('Temperature in °C')\n",
    "    plt.legend(['Monthly Average Temperature', 'Daily Average Temperature'])\n",
    "    plt.show()"
   ]
  },
  {
   "cell_type": "markdown",
   "metadata": {},
   "source": [
    "We need to use the `get_project()` *class method* to get a project handle for this special project class."
   ]
  },
  {
   "cell_type": "code",
   "execution_count": null,
   "metadata": {},
   "outputs": [],
   "source": [
    "project = MyProject.get_project(root='projects/tutorial-aggregation')"
   ]
  },
  {
   "cell_type": "markdown",
   "metadata": {},
   "source": [
    "We need to generate random temperature data for 31 days to insert into signac jobs"
   ]
  },
  {
   "cell_type": "code",
   "execution_count": null,
   "metadata": {},
   "outputs": [],
   "source": [
    "days = 31\n",
    "avg_temp = 10 + np.random.rand() * 20\n",
    "seasonal_variation = -np.cos(days / 12 * 2 * np.pi) * days\n",
    "random_variation = np.random.rand(days)\n",
    "temps = avg_temp + seasonal_variation + random_variation"
   ]
  },
  {
   "cell_type": "markdown",
   "metadata": {},
   "source": [
    "Since we generated some data in the above cell, let's initialize the data space!\n"
   ]
  },
  {
   "cell_type": "code",
   "execution_count": null,
   "metadata": {},
   "outputs": [],
   "source": [
    "for i, temp in enumerate(temps):\n",
    "    sp = dict(day=i+1, temperature=temp)\n",
    "    project.open_job(sp).init()"
   ]
  },
  {
   "cell_type": "markdown",
   "metadata": {},
   "source": [
    "signac-flow provides a method ``make_aggregates`` which helps users to generate all the aggregates for an operation using the ``Aggregate`` object associated with it. \n",
    "\n",
    "So, let's create aggregates!"
   ]
  },
  {
   "cell_type": "code",
   "execution_count": null,
   "metadata": {},
   "outputs": [],
   "source": [
    "aggregates = make_aggregates(project, plot_average_temperature)"
   ]
  },
  {
   "cell_type": "markdown",
   "metadata": {},
   "source": [
    "Let's now plot the temperatures!"
   ]
  },
  {
   "cell_type": "code",
   "execution_count": null,
   "metadata": {},
   "outputs": [],
   "source": [
    "for aggregate in aggregates:\n",
    "    plot_average_temperature(*aggregate)"
   ]
  },
  {
   "cell_type": "markdown",
   "metadata": {},
   "source": [
    "Uncomment and execute the following line to remove all data and start over."
   ]
  },
  {
   "cell_type": "code",
   "execution_count": 1,
   "metadata": {},
   "outputs": [],
   "source": [
    "# rm -r projects/tutorial-aggregation/workspace"
   ]
  },
  {
   "cell_type": "code",
   "execution_count": null,
   "metadata": {},
   "outputs": [],
   "source": []
  }
 ],
 "metadata": {
  "kernelspec": {
   "display_name": "Python 3",
   "language": "python",
   "name": "python3"
  },
  "language_info": {
   "codemirror_mode": {
    "name": "ipython",
    "version": 3
   },
   "file_extension": ".py",
   "mimetype": "text/x-python",
   "name": "python",
   "nbconvert_exporter": "python",
   "pygments_lexer": "ipython3",
   "version": "3.8.2"
  }
 },
 "nbformat": 4,
 "nbformat_minor": 4
}
