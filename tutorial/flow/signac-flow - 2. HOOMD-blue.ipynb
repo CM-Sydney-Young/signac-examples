{
 "cells": [
  {
   "cell_type": "markdown",
   "metadata": {},
   "source": [
    "# signac-flow minimal example (with HOOMD-blue)\n",
    "\n",
    "## About\n",
    "\n",
    "This notebook contains a minimal example for running a signac flow project from scratch.\n",
    "The example demonstrates how to compare an ideal gas with a lennard jones fluid by calculating a p-V phase diagram.\n",
    "\n",
    "## Author\n",
    "\n",
    "Carl Simon Adorf\n",
    "\n",
    "## Before you start\n",
    "\n",
    "Make sure you installed signac, signac-flow and HOOMD-blue, e.g., with:\n",
    "\n",
    "```\n",
    "conda install -c glotzer  signac\n",
    "conda install -c glotzer  signac-flow\n",
    "conda install -c glotzer  hoomd\n",
    "```"
   ]
  },
  {
   "cell_type": "code",
   "execution_count": 1,
   "metadata": {
    "collapsed": false
   },
   "outputs": [
    {
     "name": "stdout",
     "output_type": "stream",
     "text": [
      "HOOMD-blue v2.0.2 DOUBLE HPMC_MIXED SSE SSE2 SSE3 SSE4_1 SSE4_2 AVX \n",
      "Compiled: 08/09/16\n",
      "Copyright 2009-2016 The Regents of the University of Michigan.\n",
      "-----\n",
      "You are using HOOMD-blue. Please cite the following:\n",
      "* J A Anderson, C D Lorenz, and A Travesset. \"General purpose molecular dynamics\n",
      "  simulations fully implemented on graphics processing units\", Journal of\n",
      "  Computational Physics 227 (2008) 5342--5359\n",
      "* J Glaser, T D Nguyen, J A Anderson, P Liu, F Spiga, J A Millan, D C Morse, and\n",
      "  S C Glotzer. \"Strong scaling of general-purpose molecular dynamics simulations\n",
      "  on GPUs\", Computer Physics Communications 192 (2015) 97--107\n",
      "-----\n",
      "HOOMD-blue is running on the CPU\n",
      "/Users/csadorf/local/signac-examples/projects/hoomd-example\n"
     ]
    }
   ],
   "source": [
    "import signac\n",
    "import flow\n",
    "import hoomd\n",
    "import numpy as np\n",
    "\n",
    "# Display plots within the notebook\n",
    "from matplotlib import pyplot as plt\n",
    "%matplotlib inline\n",
    "\n",
    "# Initialize the HOOMD-blue execution context\n",
    "if hoomd.context.exec_conf is None:\n",
    "    hoomd.context.initialize('')\n",
    "\n",
    "\n",
    "# Enter the signac project directory\n",
    "% cd projects/flow-hoomd-example"
   ]
  },
  {
   "cell_type": "markdown",
   "metadata": {},
   "source": [
    "We want to generate pressure-volume phase diagram for a Lennard-Jones fluid with molecular dynamics (MD) using the general-purpose simulation toolkit HOOMD-blue (http://glotzerlab.engin.umich.edu/hoomd-blue/).\n",
    "\n",
    "We start by defining two functions, one for the initialization of our simulation and one for the actual execution."
   ]
  },
  {
   "cell_type": "code",
   "execution_count": 2,
   "metadata": {
    "collapsed": false
   },
   "outputs": [],
   "source": [
    "from math import ceil\n",
    "\n",
    "def init(N):\n",
    "    with hoomd.context.SimulationContext():\n",
    "        n = ceil(pow(N, 1/3))\n",
    "        assert n**3 == N\n",
    "        hoomd.init.create_lattice(unitcell=hoomd.lattice.sc(a=1.0), n=n)\n",
    "        hoomd.dump.gsd('init.gsd', period=None, group=hoomd.group.all())\n",
    "\n",
    "def sample_lj(N, sigma, seed, kT, tau, p, tauP, steps, r_cut):\n",
    "    from hoomd import md\n",
    "    with hoomd.context.SimulationContext():\n",
    "        hoomd.init.read_gsd('init.gsd', restart='restart.gsd')\n",
    "        group = hoomd.group.all()\n",
    "        hoomd.dump.gsd('restart.gsd', truncate=True, period=100, phase=0, group=group)\n",
    "        lj = md.pair.lj(r_cut=r_cut, nlist=md.nlist.cell())\n",
    "        lj.pair_coeff.set('A', 'A', epsilon=1.0, sigma=sigma)\n",
    "        md.integrate.mode_standard(dt=0.005)\n",
    "        md.integrate.npt(group=group, kT=kT, tau=tau, P=p, tauP=tauP)\n",
    "        hoomd.analyze.log('dump.log', ['volume'], 100, phase=0)\n",
    "        hoomd.run_upto(steps)"
   ]
  },
  {
   "cell_type": "markdown",
   "metadata": {},
   "source": [
    "We want to use **signac** to manage our simulation data and bundle all operations modifying our data space in a `Operations` class. This will make it easier later to execute these operations *by name*.\n",
    "\n",
    "The `estimate` operation stores an ideal gas estimation of the volume for the given system.\n",
    "The `sample` operation actually executes the MD simulation as defined in the previous cell."
   ]
  },
  {
   "cell_type": "code",
   "execution_count": null,
   "metadata": {
    "collapsed": false
   },
   "outputs": [],
   "source": [
    "class Operations:\n",
    "    \n",
    "    def estimate(self, job):\n",
    "        sp = job.statepoint()\n",
    "        job.document['V'] = sp['N'] * sp['kT'] / sp['p']\n",
    "\n",
    "    def sample(self, job):\n",
    "        with job:\n",
    "            sample_lj(steps=5000, ** job.statepoint())"
   ]
  },
  {
   "cell_type": "markdown",
   "metadata": {},
   "source": [
    "Now that we have defined all *operations* it's time to embed them into a general *workflow*.\n",
    "For this purpose we specialize a `flow.FlowProject`.\n",
    "\n",
    "The workflow is controlled by two core functions: `classify()` and `next_operation()`:\n",
    " - The `classify()` function allows us to *label* our jobs and get a good overview of the project *status*. This is especially important once the data space becomes larger and more complex and operations more expensive.\n",
    " - The `next_operation()` functions helps to automate the workflow by identifying the next required operation for each job."
   ]
  },
  {
   "cell_type": "code",
   "execution_count": null,
   "metadata": {
    "collapsed": true
   },
   "outputs": [],
   "source": [
    "class MyProject(flow.FlowProject):\n",
    "    \n",
    "    def classify(self, job):\n",
    "        yield 'init'\n",
    "        if 'V' in job.document:\n",
    "            yield 'estimated'\n",
    "        if job.isfile('dump.log'):\n",
    "            yield 'sampled'\n",
    "    \n",
    "    def next_operation(self, job):\n",
    "        labels = set(self.classify(job))\n",
    "        if 'V' not in job.document:\n",
    "            return 'estimate'\n",
    "        if 'sampled' not in labels:\n",
    "            return 'sample'\n",
    "\n",
    "project = MyProject()"
   ]
  },
  {
   "cell_type": "markdown",
   "metadata": {},
   "source": [
    "Now it's time to actually generate some data! Let's initialize the data space!\n"
   ]
  },
  {
   "cell_type": "code",
   "execution_count": null,
   "metadata": {
    "collapsed": false
   },
   "outputs": [],
   "source": [
    "# Uncomment the following two lines if you want to start over!\n",
    "# for job in project.find_jobs():\n",
    "#     job.remove()\n",
    "\n",
    "for p in np.linspace(0.5, 5.0, 10):\n",
    "    sp = dict(N=1728, sigma=1.0, seed=42, kT=1.0, p=p, tau=1.0, tauP=1.0, r_cut=2.5)\n",
    "    with project.open_job(sp):\n",
    "        init(N=sp['N'])"
   ]
  },
  {
   "cell_type": "markdown",
   "metadata": {},
   "source": [
    "The `print_status()` function allows to get a quick overview of our project's *status*:"
   ]
  },
  {
   "cell_type": "code",
   "execution_count": null,
   "metadata": {
    "collapsed": false
   },
   "outputs": [],
   "source": [
    "project.print_status(detailed=True, parameters=['p'])"
   ]
  },
  {
   "cell_type": "markdown",
   "metadata": {},
   "source": [
    "The next cell will attempt to execute all operations by cycling through jobs and operations until no *next operations* are defined anymore.\n",
    "\n",
    "We limit the max. number of cycles to prevent accidental infinite loops, the number of cycles is arbitrary."
   ]
  },
  {
   "cell_type": "code",
   "execution_count": null,
   "metadata": {
    "collapsed": false
   },
   "outputs": [],
   "source": [
    "for i in range(3):\n",
    "    for job in project.find_jobs():\n",
    "        for j in range(5):\n",
    "            next_op = project.next_operation(job)\n",
    "            if next_op is None:\n",
    "                break\n",
    "            print('execute', job, next_op)\n",
    "            getattr(Operations(), next_op)(job)\n",
    "            assert next_op != project.next_operation(job)\n",
    "        else:\n",
    "            raise RuntimeError(\"Reached max. # cycle limit!\")"
   ]
  },
  {
   "cell_type": "markdown",
   "metadata": {},
   "source": [
    "Let's double check the project status."
   ]
  },
  {
   "cell_type": "code",
   "execution_count": null,
   "metadata": {
    "collapsed": false
   },
   "outputs": [],
   "source": [
    "project.print_status()"
   ]
  },
  {
   "cell_type": "markdown",
   "metadata": {},
   "source": [
    "After running all operations we can make a brief examination of the collected data."
   ]
  },
  {
   "cell_type": "code",
   "execution_count": null,
   "metadata": {
    "collapsed": false
   },
   "outputs": [],
   "source": [
    "def get_volume(job):\n",
    "    log = np.genfromtxt(job.fn('dump.log'), names=True)\n",
    "    N = len(log)\n",
    "    return log[int(0.5 * N):]['volume'].mean(axis=0)\n",
    "\n",
    "for job in project.find_jobs():\n",
    "    print(job.statepoint()['p'], get_volume(job), job.document.get('V'))"
   ]
  },
  {
   "cell_type": "markdown",
   "metadata": {},
   "source": [
    "For a better presentation of the results we need to aggregate all results and sort them by pressure."
   ]
  },
  {
   "cell_type": "code",
   "execution_count": null,
   "metadata": {
    "collapsed": false
   },
   "outputs": [],
   "source": [
    "V = dict()\n",
    "V_idg = dict()\n",
    "\n",
    "for job in project.find_jobs():\n",
    "    V[job.statepoint()['p']] = get_volume(job)\n",
    "    V_idg[job.statepoint()['p']] = job.document['V']\n",
    "    \n",
    "p = sorted(V.keys())\n",
    "V = [V[p_] for p_ in p]\n",
    "V_idg = [V_idg[p_] for p_ in p]\n",
    "\n",
    "plt.plot(p, V, label='LJ')\n",
    "plt.plot(p, V_idg, label='idG')\n",
    "plt.xlabel(r'pressure [$\\epsilon / \\sigma^3$]')\n",
    "plt.ylabel(r'volume [$\\sigma^3$]')\n",
    "plt.legend()"
   ]
  },
  {
   "cell_type": "markdown",
   "metadata": {},
   "source": [
    "As a a final step, we ca generate a index of our project data.\n",
    "You can store this index in a variable or within a database, e.g., for search operations."
   ]
  },
  {
   "cell_type": "code",
   "execution_count": null,
   "metadata": {
    "collapsed": false
   },
   "outputs": [],
   "source": [
    "import glotzformats as gf\n",
    "\n",
    "formats = {\n",
    "    '.*\\.log': gf.formats.AnalysisLogFile\n",
    "}\n",
    "for doc in project.index(formats):\n",
    "    print(doc)"
   ]
  },
  {
   "cell_type": "code",
   "execution_count": null,
   "metadata": {
    "collapsed": true
   },
   "outputs": [],
   "source": []
  }
 ],
 "metadata": {
  "anaconda-cloud": {},
  "kernelspec": {
   "display_name": "Python [default]",
   "language": "python",
   "name": "python3"
  },
  "language_info": {
   "codemirror_mode": {
    "name": "ipython",
    "version": 3
   },
   "file_extension": ".py",
   "mimetype": "text/x-python",
   "name": "python",
   "nbconvert_exporter": "python",
   "pygments_lexer": "ipython3",
   "version": "3.5.2"
  }
 },
 "nbformat": 4,
 "nbformat_minor": 0
}
