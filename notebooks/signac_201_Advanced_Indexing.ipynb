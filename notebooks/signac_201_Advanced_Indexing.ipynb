{
 "cells": [
  {
   "cell_type": "markdown",
   "metadata": {},
   "source": [
    "# 2.1 Advanced Indexing\n",
    "\n",
    "## Indexing files\n",
    "\n",
    "As was shown earlier, we can create an index of the data space using the `index()` method:"
   ]
  },
  {
   "cell_type": "code",
   "execution_count": null,
   "metadata": {
    "collapsed": false
   },
   "outputs": [],
   "source": [
    "import signac\n",
    "from itertools import islice\n",
    "\n",
    "project = signac.get_project(root='projects/tutorial')\n",
    "index = list(project.index())\n",
    "\n",
    "for doc in index[:3]:\n",
    "    print(doc)"
   ]
  },
  {
   "cell_type": "markdown",
   "metadata": {},
   "source": [
    "At this point the index contains information about the statepoint and all data stored in the job document.\n",
    "If we want to include the `V.txt` text files we used to store data in, with the index, we need to tell **signac** the filename pattern and optionally the file format.\n",
    "Any name defined as a str constant or even a python class may serve as a format definition.\n",
    "\n",
    "We will specify that in additon to the job documents, all files matching the regular expression `.*/V\\.txt` are to be indexed as `TextFile`."
   ]
  },
  {
   "cell_type": "code",
   "execution_count": null,
   "metadata": {
    "collapsed": false
   },
   "outputs": [],
   "source": [
    "definitions = {'.*/V\\.txt': 'TextFile'}\n",
    "index = list(project.index(definitions))\n",
    "for doc in index[-3:]:\n",
    "    print(doc)"
   ]
  },
  {
   "cell_type": "markdown",
   "metadata": {},
   "source": [
    "**Tip**: Consider to to create a shared set of format definitions within your environment which serve as format conventions."
   ]
  },
  {
   "cell_type": "markdown",
   "metadata": {},
   "source": [
    "Accessing files via the index is useful, for example to select specific data sub sets."
   ]
  },
  {
   "cell_type": "code",
   "execution_count": null,
   "metadata": {
    "collapsed": false
   },
   "outputs": [],
   "source": [
    "import os\n",
    "\n",
    "def select(doc):\n",
    "    return 'TextFile' in doc.get('format', '') and doc['statepoint']['p'] < 5.0\n",
    "\n",
    "docs_selected = [doc for doc in index if select(doc)]\n",
    "for doc in docs_selected[:3]:\n",
    "    print('p=', doc['statepoint']['p'], end=' ')\n",
    "    fn = os.path.join(doc['root'], doc['filename'])\n",
    "    with open(fn) as file:\n",
    "        print('V=', file.read().strip())"
   ]
  },
  {
   "cell_type": "markdown",
   "metadata": {},
   "source": [
    "## Customized Project Crawlers\n",
    "\n",
    "The `index()` function as well as the `$ signac index` command internally creater a `Crawler` instance to crawl through the data space and create the index.\n",
    "To have more control over the indexing process, we can do this explicitly:"
   ]
  },
  {
   "cell_type": "code",
   "execution_count": null,
   "metadata": {
    "collapsed": false
   },
   "outputs": [],
   "source": [
    "from signac.contrib import SignacProjectCrawler\n",
    "\n",
    "# Specialize a SignacProject Crawler...\n",
    "class TutorialProjectCrawler(SignacProjectCrawler):\n",
    "    pass\n",
    "\n",
    "# Define files to index...\n",
    "TutorialProjectCrawler.define('.*/V\\.txt', 'TextFile')\n",
    "\n",
    "# Create a crawler instance and generate the index.\n",
    "crawler = TutorialProjectCrawler(root=project.workspace())\n",
    "index = list(crawler.crawl())\n",
    "for doc in index[:3]:\n",
    "    print(doc)"
   ]
  },
  {
   "cell_type": "markdown",
   "metadata": {},
   "source": [
    "We could specialize the `IdealGasCrawler` further, e.g., to add more metadata to the index.\n",
    "\n",
    "## Using a Master Crawler\n",
    "\n",
    "A master crawler uses other crawlers to compile a combined master index of one or more data spaces.\n",
    "This allows you and everyone else who has access to the master index, to search and possibly access all data within the shared data space.\n",
    "\n",
    "To expose the project to a `MasterCrawler` we need to create a so called *access module*.\n",
    "For signac projects this is simplified by using the `create_access_module()` method.\n",
    "Let's create an access module:"
   ]
  },
  {
   "cell_type": "code",
   "execution_count": null,
   "metadata": {
    "collapsed": false
   },
   "outputs": [],
   "source": [
    "try:\n",
    "    project.create_access_module({'.*/V\\.txt': 'TextFile'})\n",
    "except IOError:\n",
    "    pass  # File already exists..."
   ]
  },
  {
   "cell_type": "markdown",
   "metadata": {},
   "source": [
    "This function creates a file called `signac_access.py` within our project's root directory."
   ]
  },
  {
   "cell_type": "code",
   "execution_count": null,
   "metadata": {
    "collapsed": false
   },
   "outputs": [],
   "source": [
    "% cat projects/tutorial/signac_access.py"
   ]
  },
  {
   "cell_type": "markdown",
   "metadata": {},
   "source": [
    "You will notice that this file looks very similar to our custom crawler definition earlier.\n",
    "It also shows us how to execute a Master Crawler for this data space.\n",
    "Let's do that:"
   ]
  },
  {
   "cell_type": "code",
   "execution_count": null,
   "metadata": {
    "collapsed": false
   },
   "outputs": [],
   "source": [
    "from signac.contrib import MasterCrawler\n",
    "master_crawler = MasterCrawler('projects')\n",
    "master_index = list(master_crawler.crawl(depth=1))\n",
    "for doc in master_index[:3]:\n",
    "    print(doc)"
   ]
  },
  {
   "cell_type": "markdown",
   "metadata": {},
   "source": [
    "The index generated by the master crawler contains all the information about our project, even the files, without any additional information.\n",
    "This is possible, because the `MasterCrawler` searches the data space for files named `signac_access.py` and then collects all indexes generated by the `slave crawlers` defined within these modules.\n",
    "\n",
    "This allows us to easily generate a *master index* of multiple projects and even directly fetch data, using only the index, see the next section.\n",
    "\n",
    "## Fetch data via filename\n",
    "\n",
    "Just like before, we can access data via the filenames specified in the index documents:"
   ]
  },
  {
   "cell_type": "code",
   "execution_count": null,
   "metadata": {
    "collapsed": false
   },
   "outputs": [],
   "source": [
    "import os\n",
    "\n",
    "docs_files = [doc for doc in master_index if doc['format'] is not None]\n",
    "for doc in docs_files[:3]:\n",
    "    fn = os.path.join(doc['root'], doc['filename'])\n",
    "    with open(fn) as file:\n",
    "        print(doc['statepoint']['p'], file.read().strip())"
   ]
  },
  {
   "cell_type": "markdown",
   "metadata": {},
   "source": [
    "## Fetch data via index documents\n",
    "\n",
    "But even better, data files can be seamlessly fetched using the `signac.fetch()` function:"
   ]
  },
  {
   "cell_type": "code",
   "execution_count": null,
   "metadata": {
    "collapsed": false
   },
   "outputs": [],
   "source": [
    "for doc in docs_files[:3]:\n",
    "    with signac.fetch(doc) as file:\n",
    "        print(doc['statepoint']['p'], file.read().strip())"
   ]
  },
  {
   "cell_type": "markdown",
   "metadata": {},
   "source": [
    "Think of `fetch()` like the built-in `open()` function. It allows us to retrieve and open files based on the index document (file id) instead of an absolute file path. This makes it easier to operate on data agnostic to its actual physical location."
   ]
  }
 ],
 "metadata": {
  "language_info": {
   "codemirror_mode": {
    "name": "ipython",
    "version": 3
   },
   "file_extension": ".py",
   "mimetype": "text/x-python",
   "name": "python",
   "nbconvert_exporter": "python",
   "pygments_lexer": "ipython3",
   "version": "3.5.2"
  }
 },
 "nbformat": 4,
 "nbformat_minor": 1
}
