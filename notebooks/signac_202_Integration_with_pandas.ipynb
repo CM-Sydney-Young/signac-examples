{
 "cells": [
  {
   "cell_type": "markdown",
   "metadata": {},
   "source": [
    "# 2.2 Integration with pandas DataFrames\n",
    "\n",
    "<div class=\"alert alert-info\">\n",
    "\n",
    "Please note: The following notebook requires you first run [signac_103_A_Basic_Workflow](signac_103_A_Basic_Workflow.ipynb).\n",
    "\n",
    "</div>"
   ]
  },
  {
   "cell_type": "code",
   "execution_count": 1,
   "metadata": {},
   "outputs": [],
   "source": [
    "import matplotlib.pyplot as plt\n",
    "import pandas as pd\n",
    "import signac\n",
    "\n",
    "%matplotlib inline\n",
    "project = signac.get_project(root=\"projects/tutorial\")"
   ]
  },
  {
   "cell_type": "markdown",
   "metadata": {},
   "source": [
    "Let's first create a basic data frame from our project:"
   ]
  },
  {
   "cell_type": "code",
   "execution_count": 2,
   "metadata": {},
   "outputs": [
    {
     "data": {
      "text/html": [
       "<div>\n",
       "<style scoped>\n",
       "    .dataframe tbody tr th:only-of-type {\n",
       "        vertical-align: middle;\n",
       "    }\n",
       "\n",
       "    .dataframe tbody tr th {\n",
       "        vertical-align: top;\n",
       "    }\n",
       "\n",
       "    .dataframe thead th {\n",
       "        text-align: right;\n",
       "    }\n",
       "</style>\n",
       "<table border=\"1\" class=\"dataframe\">\n",
       "  <thead>\n",
       "    <tr style=\"text-align: right;\">\n",
       "      <th></th>\n",
       "      <th>sp.p</th>\n",
       "      <th>sp.kT</th>\n",
       "      <th>sp.N</th>\n",
       "      <th>doc.V</th>\n",
       "    </tr>\n",
       "  </thead>\n",
       "  <tbody>\n",
       "    <tr>\n",
       "      <th>5a6c687f7655319db24de59a2336eff8</th>\n",
       "      <td>0.100</td>\n",
       "      <td>1.0</td>\n",
       "      <td>1000</td>\n",
       "      <td>10000.000000</td>\n",
       "    </tr>\n",
       "    <tr>\n",
       "      <th>ee617ad585a90809947709a7a45dda9a</th>\n",
       "      <td>1.000</td>\n",
       "      <td>1.0</td>\n",
       "      <td>1000</td>\n",
       "      <td>1000.000000</td>\n",
       "    </tr>\n",
       "    <tr>\n",
       "      <th>22582e83c6b12336526ed304d4378ff8</th>\n",
       "      <td>1.200</td>\n",
       "      <td>1.0</td>\n",
       "      <td>1000</td>\n",
       "      <td>833.333333</td>\n",
       "    </tr>\n",
       "    <tr>\n",
       "      <th>c0ab2e09a6f878019a6057175bf718e6</th>\n",
       "      <td>2.300</td>\n",
       "      <td>1.0</td>\n",
       "      <td>1000</td>\n",
       "      <td>434.782609</td>\n",
       "    </tr>\n",
       "    <tr>\n",
       "      <th>d03270cdbbae73c8bb1d9fa0ab370264</th>\n",
       "      <td>2.575</td>\n",
       "      <td>1.0</td>\n",
       "      <td>1000</td>\n",
       "      <td>388.349515</td>\n",
       "    </tr>\n",
       "    <tr>\n",
       "      <th>9110d0837ad93ff6b4013bae30091edd</th>\n",
       "      <td>3.400</td>\n",
       "      <td>1.0</td>\n",
       "      <td>1000</td>\n",
       "      <td>294.117647</td>\n",
       "    </tr>\n",
       "    <tr>\n",
       "      <th>b45a2485a44a46364cc60134360ea5af</th>\n",
       "      <td>4.500</td>\n",
       "      <td>1.0</td>\n",
       "      <td>1000</td>\n",
       "      <td>222.222222</td>\n",
       "    </tr>\n",
       "    <tr>\n",
       "      <th>973e29d6a4ed6cf7329c03c77df7f645</th>\n",
       "      <td>5.050</td>\n",
       "      <td>1.0</td>\n",
       "      <td>1000</td>\n",
       "      <td>198.019802</td>\n",
       "    </tr>\n",
       "    <tr>\n",
       "      <th>05061d2acea19d2d9a25ac3360f70e04</th>\n",
       "      <td>5.600</td>\n",
       "      <td>1.0</td>\n",
       "      <td>1000</td>\n",
       "      <td>178.571429</td>\n",
       "    </tr>\n",
       "    <tr>\n",
       "      <th>665547b1344fe40de5b2c7ace4204783</th>\n",
       "      <td>6.700</td>\n",
       "      <td>1.0</td>\n",
       "      <td>1000</td>\n",
       "      <td>149.253731</td>\n",
       "    </tr>\n",
       "    <tr>\n",
       "      <th>4cf2795722061df825ec9a4d5e31e494</th>\n",
       "      <td>7.525</td>\n",
       "      <td>1.0</td>\n",
       "      <td>1000</td>\n",
       "      <td>132.890365</td>\n",
       "    </tr>\n",
       "    <tr>\n",
       "      <th>8629822576debc2bfbeffa56787ca348</th>\n",
       "      <td>7.800</td>\n",
       "      <td>1.0</td>\n",
       "      <td>1000</td>\n",
       "      <td>128.205128</td>\n",
       "    </tr>\n",
       "    <tr>\n",
       "      <th>e8186b9b68e18a82f331d51a7b8c8c15</th>\n",
       "      <td>8.900</td>\n",
       "      <td>1.0</td>\n",
       "      <td>1000</td>\n",
       "      <td>112.359551</td>\n",
       "    </tr>\n",
       "    <tr>\n",
       "      <th>5a456c131b0c5897804a4af8e77df5aa</th>\n",
       "      <td>10.000</td>\n",
       "      <td>1.0</td>\n",
       "      <td>1000</td>\n",
       "      <td>100.000000</td>\n",
       "    </tr>\n",
       "  </tbody>\n",
       "</table>\n",
       "</div>"
      ],
      "text/plain": [
       "                                    sp.p  sp.kT  sp.N         doc.V\n",
       "5a6c687f7655319db24de59a2336eff8   0.100    1.0  1000  10000.000000\n",
       "ee617ad585a90809947709a7a45dda9a   1.000    1.0  1000   1000.000000\n",
       "22582e83c6b12336526ed304d4378ff8   1.200    1.0  1000    833.333333\n",
       "c0ab2e09a6f878019a6057175bf718e6   2.300    1.0  1000    434.782609\n",
       "d03270cdbbae73c8bb1d9fa0ab370264   2.575    1.0  1000    388.349515\n",
       "9110d0837ad93ff6b4013bae30091edd   3.400    1.0  1000    294.117647\n",
       "b45a2485a44a46364cc60134360ea5af   4.500    1.0  1000    222.222222\n",
       "973e29d6a4ed6cf7329c03c77df7f645   5.050    1.0  1000    198.019802\n",
       "05061d2acea19d2d9a25ac3360f70e04   5.600    1.0  1000    178.571429\n",
       "665547b1344fe40de5b2c7ace4204783   6.700    1.0  1000    149.253731\n",
       "4cf2795722061df825ec9a4d5e31e494   7.525    1.0  1000    132.890365\n",
       "8629822576debc2bfbeffa56787ca348   7.800    1.0  1000    128.205128\n",
       "e8186b9b68e18a82f331d51a7b8c8c15   8.900    1.0  1000    112.359551\n",
       "5a456c131b0c5897804a4af8e77df5aa  10.000    1.0  1000    100.000000"
      ]
     },
     "execution_count": 2,
     "metadata": {},
     "output_type": "execute_result"
    }
   ],
   "source": [
    "df = project.to_dataframe()\n",
    "df = df.sort_values(\"sp.p\")\n",
    "df"
   ]
  },
  {
   "cell_type": "markdown",
   "metadata": {},
   "source": [
    "Now we can select specific data subsets, for example simulations with pressure equal to 0.1 or volumes greater than 500:"
   ]
  },
  {
   "cell_type": "code",
   "execution_count": 3,
   "metadata": {},
   "outputs": [
    {
     "data": {
      "text/html": [
       "<div>\n",
       "<style scoped>\n",
       "    .dataframe tbody tr th:only-of-type {\n",
       "        vertical-align: middle;\n",
       "    }\n",
       "\n",
       "    .dataframe tbody tr th {\n",
       "        vertical-align: top;\n",
       "    }\n",
       "\n",
       "    .dataframe thead th {\n",
       "        text-align: right;\n",
       "    }\n",
       "</style>\n",
       "<table border=\"1\" class=\"dataframe\">\n",
       "  <thead>\n",
       "    <tr style=\"text-align: right;\">\n",
       "      <th></th>\n",
       "      <th>sp.p</th>\n",
       "      <th>sp.kT</th>\n",
       "      <th>sp.N</th>\n",
       "      <th>doc.V</th>\n",
       "    </tr>\n",
       "  </thead>\n",
       "  <tbody>\n",
       "    <tr>\n",
       "      <th>5a6c687f7655319db24de59a2336eff8</th>\n",
       "      <td>0.1</td>\n",
       "      <td>1.0</td>\n",
       "      <td>1000</td>\n",
       "      <td>10000.000000</td>\n",
       "    </tr>\n",
       "    <tr>\n",
       "      <th>ee617ad585a90809947709a7a45dda9a</th>\n",
       "      <td>1.0</td>\n",
       "      <td>1.0</td>\n",
       "      <td>1000</td>\n",
       "      <td>1000.000000</td>\n",
       "    </tr>\n",
       "    <tr>\n",
       "      <th>22582e83c6b12336526ed304d4378ff8</th>\n",
       "      <td>1.2</td>\n",
       "      <td>1.0</td>\n",
       "      <td>1000</td>\n",
       "      <td>833.333333</td>\n",
       "    </tr>\n",
       "  </tbody>\n",
       "</table>\n",
       "</div>"
      ],
      "text/plain": [
       "                                  sp.p  sp.kT  sp.N         doc.V\n",
       "5a6c687f7655319db24de59a2336eff8   0.1    1.0  1000  10000.000000\n",
       "ee617ad585a90809947709a7a45dda9a   1.0    1.0  1000   1000.000000\n",
       "22582e83c6b12336526ed304d4378ff8   1.2    1.0  1000    833.333333"
      ]
     },
     "execution_count": 3,
     "metadata": {},
     "output_type": "execute_result"
    }
   ],
   "source": [
    "df[(df[\"sp.p\"] == 0.1) | (df[\"doc.V\"] > 500)]"
   ]
  },
  {
   "cell_type": "markdown",
   "metadata": {},
   "source": [
    "Or we can plot a pressure-volume (p-V) phase diagram for our pretend data using matplotlib:"
   ]
  },
  {
   "cell_type": "code",
   "execution_count": 4,
   "metadata": {},
   "outputs": [
    {
     "data": {
      "image/png": "[encoded data removed]",
      "text/plain": [
       "<Figure size 720x480 with 1 Axes>"
      ]
     },
     "metadata": {
      "needs_background": "light"
     },
     "output_type": "display_data"
    }
   ],
   "source": [
    "fig, ax = plt.subplots(dpi=120)\n",
    "df.plot(\"sp.p\", \"doc.V\", ax=ax)\n",
    "ax.set_yscale(\"log\")\n",
    "ax.set_xlabel(\"pressure\")\n",
    "ax.set_ylabel(\"volume\")\n",
    "ax.get_legend().remove()\n",
    "plt.show()"
   ]
  }
 ],
 "metadata": {
  "kernelspec": {
   "display_name": "Python 3",
   "language": "python",
   "name": "python3"
  },
  "language_info": {
   "codemirror_mode": {
    "name": "ipython",
    "version": 3
   },
   "file_extension": ".py",
   "mimetype": "text/x-python",
   "name": "python",
   "nbconvert_exporter": "python",
   "pygments_lexer": "ipython3",
   "version": "3.8.6"
  }
 },
 "nbformat": 4,
 "nbformat_minor": 4
}
