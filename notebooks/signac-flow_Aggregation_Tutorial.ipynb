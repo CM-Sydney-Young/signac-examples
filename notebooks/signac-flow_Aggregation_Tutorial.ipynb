{
 "cells": [
  {
   "cell_type": "markdown",
   "metadata": {},
   "source": [
    "# 3.3 signac-flow aggregation example\n",
    "\n",
    "## About\n",
    "\n",
    "This notebook contains a minimal example for running workflows on aggregates of jobs using **signac-flow**. \n",
    "\n",
    "\n",
    "## Author\n",
    "\n",
    "Hardik Ojha\n",
    "\n",
    "## Prerequisites\n",
    "\n",
    "Following are the requirements for this notebook to run successfully\n",
    "\n",
    "1. **signac-flow** >= 0.13\n",
    "2. numpy\n",
    "3. matplotlib\n",
    "\n",
    "The below commands can be executed to install the required packages \n",
    "```\n",
    "pip install signac-flow >= 0.13\n",
    "pip install matplotlib\n",
    "pip install numpy\n",
    "```"
   ]
  },
  {
   "cell_type": "markdown",
   "metadata": {},
   "source": [
    "# Objective\n",
    "\n",
    "Goal of this project is to plot the temperature values present in **signac** data space along with the average value of all the temperatures present."
   ]
  },
  {
   "cell_type": "markdown",
   "metadata": {},
   "source": [
    "# Environment setup\n",
    "\n",
    "Before we initialize a **signac** project inside the `projects/tutorial-aggregation` directory, we need to be sure that no such directory exists."
   ]
  },
  {
   "cell_type": "code",
   "execution_count": null,
   "metadata": {},
   "outputs": [],
   "source": [
    "rm -rf projects/tutorial-aggregation"
   ]
  },
  {
   "cell_type": "code",
   "execution_count": null,
   "metadata": {},
   "outputs": [],
   "source": [
    "import random\n",
    "\n",
    "import signac\n",
    "from flow import FlowProject, aggregator\n",
    "\n",
    "import matplotlib.pyplot as plt\n",
    "import numpy as np\n",
    "\n",
    "# Setting default figure size\n",
    "plt.rcParams[\"figure.figsize\"] = (15, 8)\n",
    "\n",
    "\n",
    "# Initializing a signac project\n",
    "project = signac.init_project('AggregationTutorialProject', 'projects/tutorial-aggregation')"
   ]
  },
  {
   "cell_type": "markdown",
   "metadata": {},
   "source": [
    "# Initializing data space\n",
    "\n",
    "For the purpose of this notebook, we will be creating a random dataset using some mathematical calculations.\n",
    "\n",
    "All the **signac** jobs will have two state point parameters\n",
    "\n",
    "1. `day`: Day of the month\n",
    "2. `temperature`: Average temperature for that day"
   ]
  },
  {
   "cell_type": "code",
   "execution_count": null,
   "metadata": {},
   "outputs": [],
   "source": [
    "days = 31\n",
    "avg_temperature = 10 + np.random.rand() * 20\n",
    "daily_variation = -np.cos(days / 12 * 2 * np.pi) * days\n",
    "random_variation = np.random.rand(days)\n",
    "temperatures = avg_temperature + daily_variation + random_variation\n",
    "\n",
    "for i, temp in enumerate(temperatures):\n",
    "    sp = dict(day=i + 1, temperature=temp)\n",
    "    # Create a signac job having the state point parameters 'day' and 'temperature'\n",
    "    project.open_job(sp).init()"
   ]
  },
  {
   "cell_type": "markdown",
   "metadata": {},
   "source": [
    "# Generating Project\n",
    "\n",
    "In order to achieve our goal using **signac-flow**, we need to generate a `FlowProject` and add operations to it.\n",
    "There will be following operations in our workflow:\n",
    "\n",
    "1. `compute_average_temperature`: This operation computes the average temperature of the month and stores it in the project document. For this operation, all the jobs present in the **signac** project will be aggregated together. This will be the first operation to get executed in our workflow.\n",
    "2. `plot_deviation_from_average`: This operation plots the temperature (as a scatter plot) and the average temperature of the month. For this operation, all the jobs, when sorted by the state point parameter `day`, present in the **signac** project will be aggregated together. This will be executed after the operation `compute_average_temperature`."
   ]
  },
  {
   "cell_type": "code",
   "execution_count": null,
   "metadata": {},
   "outputs": [],
   "source": [
    "class AggregationProject(FlowProject):\n",
    "    pass\n",
    "\n",
    "\n",
    "@aggregator()\n",
    "@AggregationProject.operation\n",
    "@AggregationProject.post(\n",
    "    lambda *jobs: project.doc.get('average_temperature', False)\n",
    ")\n",
    "def compute_average_temperature(*jobs):\n",
    "    average_temp = sum([job.sp.temperature for job in jobs]) / len(jobs)\n",
    "    project.doc['average_temperature'] = average_temp\n",
    "\n",
    "    \n",
    "@aggregator(sort_by='day')\n",
    "@AggregationProject.operation\n",
    "@AggregationProject.pre(\n",
    "    lambda *jobs: project.doc.get('average_temperature', False)\n",
    ")\n",
    "def plot_deviation_from_average(*jobs):\n",
    "    average_temp = project.doc['average_temperature']\n",
    "    days = [job.sp.day for job in jobs] \n",
    "    plt.plot(days, [job.sp.temperature for job in jobs], 'rx')\n",
    "    plt.plot(days, [average_temp] * len(days), 'g')\n",
    "    plt.legend(['Temperature per day', 'Average Temperature'])\n",
    "    plt.xlabel('Day of month')\n",
    "    plt.ylabel('Temperature')\n",
    "    plt.show()"
   ]
  },
  {
   "cell_type": "markdown",
   "metadata": {},
   "source": [
    "# Executing the workflow"
   ]
  },
  {
   "cell_type": "markdown",
   "metadata": {},
   "source": [
    "### Initializing the FlowProject\n",
    "In order to register the operations, conditions, and the aggregators associated with the project we created, we need to initialize a `FlowProject`.\n",
    "Since the **signac** project does not belong in the same directory of the `FlowProject`, there is a need to specify the configuration of the **signac** project."
   ]
  },
  {
   "cell_type": "code",
   "execution_count": null,
   "metadata": {},
   "outputs": [],
   "source": [
    "flow_project = AggregationProject(config=project.config)"
   ]
  },
  {
   "cell_type": "markdown",
   "metadata": {},
   "source": [
    "### Running the workflow\n",
    "The `FlowProject.run` method allows the execution all eligible operations in the `FlowProject`."
   ]
  },
  {
   "cell_type": "code",
   "execution_count": null,
   "metadata": {},
   "outputs": [],
   "source": [
    "flow_project.run()"
   ]
  },
  {
   "cell_type": "markdown",
   "metadata": {},
   "source": [
    "# Summary"
   ]
  },
  {
   "cell_type": "markdown",
   "metadata": {},
   "source": [
    "We have successfully plotted the temperature values present in **signac** data space along with the average value of all the temperatures present using the aggregation feature of **signac-flow**\n",
    "\n",
    "To know more about how to use aggregation, visit https://docs.signac.io/en/latest/aggregation.html"
   ]
  }
 ],
 "metadata": {
  "kernelspec": {
   "display_name": "Python 3",
   "language": "python",
   "name": "python3"
  },
  "language_info": {
   "codemirror_mode": {
    "name": "ipython",
    "version": 3
   },
   "file_extension": ".py",
   "mimetype": "text/x-python",
   "name": "python",
   "nbconvert_exporter": "python",
   "pygments_lexer": "ipython3",
   "version": "3.8.5"
  }
 },
 "nbformat": 4,
 "nbformat_minor": 4
}
