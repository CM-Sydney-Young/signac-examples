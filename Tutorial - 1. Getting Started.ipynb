{
 "cells": [
  {
   "cell_type": "markdown",
   "metadata": {},
   "source": [
    "# Getting started\n",
    "\n",
    "## Prerequisites\n",
    "\n",
    "### Installation\n",
    "\n",
    "This tutorial requires **signac**, so make sure to install the package before starting.\n",
    "The easiest way to do so is using conda:\n",
    "\n",
    "```$ conda install -c glotzer signac```\n",
    "\n",
    "or pip:\n",
    "\n",
    "```pip install signac --user```\n",
    "\n",
    "Please refer to http://signac.readthedocs.io/en/latest/installation.html#installation for detailed instructions on how to install signac.\n",
    "\n",
    "## A minimal example\n",
    "\n",
    "For this tutorial we want to compute the volume of an ideal gas as a function of its pressure and temperature.\n",
    "\n",
    "**pV=NkT**"
   ]
  },
  {
   "cell_type": "code",
   "execution_count": 35,
   "metadata": {
    "collapsed": true
   },
   "outputs": [],
   "source": [
    "def V_idg(N, p, kT):\n",
    "    return N * kT / p"
   ]
  },
  {
   "cell_type": "markdown",
   "metadata": {},
   "source": [
    "We can execute the complete study in just a few lines of code.\n",
    "First, we enter the project directory and get a project handle:"
   ]
  },
  {
   "cell_type": "code",
   "execution_count": 36,
   "metadata": {
    "collapsed": false
   },
   "outputs": [
    {
     "name": "stdout",
     "output_type": "stream",
     "text": [
      "[Errno 2] No such file or directory: 'projects/ideal-gas-example'\n",
      "/Users/csadorf/local/signac-examples/projects/ideal-gas-example\n"
     ]
    }
   ],
   "source": [
    "import signac\n",
    "\n",
    "% cd projects/ideal-gas-example\n",
    "project = signac.get_project()"
   ]
  },
  {
   "cell_type": "markdown",
   "metadata": {},
   "source": [
    "Then we iterate over different state points and perform the ideal gas calculation:"
   ]
  },
  {
   "cell_type": "code",
   "execution_count": 46,
   "metadata": {
    "collapsed": false
   },
   "outputs": [],
   "source": [
    "for p in 0.1, 1.0, 10.0:\n",
    "    sp = {'p': p, 'kT': 1.0, 'N': 1000}\n",
    "    job = project.open_job(sp)\n",
    "    job.document['V'] = V_idg(**sp)"
   ]
  },
  {
   "cell_type": "markdown",
   "metadata": {},
   "source": [
    "We iterate over the variable of interest *p* and construct a complete state point *sp* which contains all the meta data associated with our data.\n",
    "In this simple example the meta data is very compact, but in principle the state point may be highly complex.\n",
    "\n",
    "Next, we obtain a *job* handle and store the result of the calculation with in the *job document*.\n",
    "The *job document* is a persistent dictionary for storage of simple key-value pairs.\n",
    "Here, we exploit that the state point dictionary *sp* can easily be passed into the `V_idg()` function using the keyword expansion syntax (`**sp`).\n",
    "\n",
    "We can then examine our results by iterating over the data space:"
   ]
  },
  {
   "cell_type": "code",
   "execution_count": 38,
   "metadata": {
    "collapsed": false
   },
   "outputs": [
    {
     "name": "stdout",
     "output_type": "stream",
     "text": [
      "10.0 100.0\n",
      "1.0 1000.0\n",
      "0.1 10000.0\n"
     ]
    }
   ],
   "source": [
    "for job in project.find_jobs():\n",
    "    print(job.statepoint()['p'], job.document['V'])"
   ]
  },
  {
   "cell_type": "markdown",
   "metadata": {},
   "source": [
    "## The Basics\n",
    "\n",
    "In the minimal example we initialized the data space implicitly. Let’s see how we can initialize it explicitly. In general, the data space needs to contain all parameters that will affect our data. For the ideal gas that is a 3-dimensional space spanned by the temperature *T*, the pressure *p* and the system size *N*.\n",
    "\n",
    "Each state point represents a unique set of parameters that we want to associate with data. In terms of **signac** this relationship is represented by a *job*.\n",
    "We use the `open_job()` method to get a handle on the *job dataspace*:"
   ]
  },
  {
   "cell_type": "code",
   "execution_count": 39,
   "metadata": {
    "collapsed": false
   },
   "outputs": [],
   "source": [
    "job = project.open_job({'p': 1.0, 'kT': 1.0, 'N': 1000})"
   ]
  },
  {
   "cell_type": "markdown",
   "metadata": {},
   "source": [
    "The *job* handle tightly couples our input parameters (*p*, *T*, *N*) with the storage location of the output data.\n",
    "You can inspect both the input parameters and the storage location:"
   ]
  },
  {
   "cell_type": "code",
   "execution_count": 40,
   "metadata": {
    "collapsed": false
   },
   "outputs": [
    {
     "name": "stdout",
     "output_type": "stream",
     "text": [
      "ee617ad585a90809947709a7a45dda9a\n",
      "{'p': 1.0, 'kT': 1.0, 'N': 1000}\n",
      "/Users/csadorf/local/signac-examples/projects/ideal-gas-example/workspace/ee617ad585a90809947709a7a45dda9a\n"
     ]
    }
   ],
   "source": [
    "print(job)\n",
    "print(job.statepoint())\n",
    "print(job.workspace())"
   ]
  },
  {
   "cell_type": "markdown",
   "metadata": {},
   "source": [
    "We can use this to store data, which is safely associated with the input parameters."
   ]
  },
  {
   "cell_type": "code",
   "execution_count": 47,
   "metadata": {
    "collapsed": false
   },
   "outputs": [],
   "source": [
    "# Get the job handle for the input variables\n",
    "job = project.open_job({'p': 1.0, 'kT': 1.0, 'N': 1000})\n",
    "# Calculate the result\n",
    "V = V_idg(** job.statepoint())\n",
    "\n",
    "# The following two methods for storing the result are equivalent:\n",
    "\n",
    "# Use job.fn() to generate a statepoint-specific filename.\n",
    "with open(job.fn('V.txt'), 'w') as file:\n",
    "    file.write(str(V) + '\\n')\n",
    " \n",
    "# Use the job handle as context manager to enter the job workspace directory\n",
    "# during the duration of the operation.\n",
    "with job:\n",
    "    with open('V.txt', 'w') as file:\n",
    "        file.write(str(V) + '\\n')"
   ]
  },
  {
   "cell_type": "markdown",
   "metadata": {},
   "source": [
    "In the above example the data was stored in a file called `V.txt`.\n",
    "Light-weight data such as simple key-value pairs can alternatively stored in the *job document* as was shown in the minimal example.\n",
    "\n",
    "The *job document* is a persistent dictionary to store job-associated data.\n",
    "The data is safely stored within a JSON dictionary."
   ]
  },
  {
   "cell_type": "code",
   "execution_count": null,
   "metadata": {
    "collapsed": true
   },
   "outputs": [],
   "source": [
    "# Get the job handle for the input variables\n",
    "job = project.open_job({'p': 1.0, 'kT': 1.0, 'N': 1000})\n",
    "# Calculate the result\n",
    "V = V_idg(** job.statepoint())\n",
    "\n",
    "job.document['V'] = V"
   ]
  },
  {
   "cell_type": "markdown",
   "metadata": {},
   "source": [
    "Usually, we are interested in more than one state point, in which case we can simply iterate over the variables of interest."
   ]
  },
  {
   "cell_type": "code",
   "execution_count": null,
   "metadata": {
    "collapsed": true
   },
   "outputs": [],
   "source": [
    "for pressure in 0.1, 1.0, 10.0:\n",
    "    statepoint = {'p': pressure, 'T': 10.0, 'N': 1000}\n",
    "    job = project.open_job(statepoint)\n",
    "    job.document['V'] = V_idg(** job.statepoint())\n",
    "    print(job, 'initialized')"
   ]
  },
  {
   "cell_type": "code",
   "execution_count": 22,
   "metadata": {
    "collapsed": false
   },
   "outputs": [
    {
     "name": "stdout",
     "output_type": "stream",
     "text": [
      "8af3e80c0037fd3227ab2bdc1adb5daa initialized\n",
      "b44c2480075402119de5abf2831316a1 initialized\n",
      "9ef1a35d0fcf3d8eb8af99ace89b37db initialized\n"
     ]
    }
   ],
   "source": [
    "for pressure in 0.1, 1.0, 10.0:\n",
    "    statepoint = {'p': pressure, 'T': 10.0, 'N': 1000}\n",
    "    job = project.open_job(statepoint)\n",
    "    job.init()\n",
    "    print(job, 'initialized')"
   ]
  },
  {
   "cell_type": "markdown",
   "metadata": {},
   "source": [
    "The output shows the *job ids* associated with each state point.\n",
    "The *job id* is a unique identifier representing the state point.\n",
    "Typical computational studies require vastly more parameters than the three we need for the ideal gas computation.\n",
    "Especially in those cases the *job id* is a much more compact representation of the whole state point.\n",
    "\n",
    "As we did not explicitly specify the location of our project’s workspace it defaulted to projects/ideal-gas-example/workspace. The project’s workspace has been populated with directories for each state point:"
   ]
  },
  {
   "cell_type": "code",
   "execution_count": 23,
   "metadata": {
    "collapsed": false
   },
   "outputs": [
    {
     "data": {
      "text/plain": [
       "['8af3e80c0037fd3227ab2bdc1adb5daa',\n",
       " '9ef1a35d0fcf3d8eb8af99ace89b37db',\n",
       " 'b44c2480075402119de5abf2831316a1']"
      ]
     },
     "execution_count": 23,
     "metadata": {},
     "output_type": "execute_result"
    }
   ],
   "source": [
    "import os\n",
    "\n",
    "os.listdir('workspace')"
   ]
  },
  {
   "cell_type": "markdown",
   "metadata": {},
   "source": [
    "Let's go ahead and perform our computation.\n",
    "We define two different functions to highlight the important concept of *operations*.\n",
    "\n",
    "The first function `calc_volume` generates the data for a set of input parameters, the second function `compute_volume()` stores the data within the *project workspace*."
   ]
  },
  {
   "cell_type": "code",
   "execution_count": 24,
   "metadata": {
    "collapsed": true
   },
   "outputs": [],
   "source": [
    "def calc_volume(N, T, p):\n",
    "    \"Compute the volume of an ideal gas.\"\n",
    "    return N * T / p\n",
    "\n",
    "def compute_volume(job):\n",
    "    \"Compute the volume of this state point.\"\n",
    "    sp = job.statepoint()\n",
    "    with job:\n",
    "        V = calc_volume(sp['N'], sp['T'], sp['p'])\n",
    "        with open('V.txt', 'w') as file:\n",
    "            file.write(str(V)+'\\n')\n",
    "        print(job, 'computed volume')"
   ]
  },
  {
   "cell_type": "code",
   "execution_count": null,
   "metadata": {
    "collapsed": true
   },
   "outputs": [],
   "source": []
  }
 ],
 "metadata": {
  "anaconda-cloud": {},
  "kernelspec": {
   "display_name": "Python [default]",
   "language": "python",
   "name": "python3"
  },
  "language_info": {
   "codemirror_mode": {
    "name": "ipython",
    "version": 3
   },
   "file_extension": ".py",
   "mimetype": "text/x-python",
   "name": "python",
   "nbconvert_exporter": "python",
   "pygments_lexer": "ipython3",
   "version": "3.5.2"
  }
 },
 "nbformat": 4,
 "nbformat_minor": 1
}
