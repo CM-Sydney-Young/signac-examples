{
 "cells": [
  {
   "cell_type": "markdown",
   "metadata": {},
   "source": [
    "# 3.1 signac-flow minimal example\n",
    "\n",
    "## About\n",
    "\n",
    "This notebook contains a minimal example for running a signac-flow project from scratch.\n",
    "The example demonstrates how to compare an ideal gas with a lennard jones fluid by calculating a p-V phase diagram.\n",
    "\n",
    "## Author\n",
    "\n",
    "Carl Simon Adorf\n",
    "\n",
    "## Before you start\n",
    "\n",
    "Make sure you installed signac and signac-flow, e.g., with:\n",
    "\n",
    "```\n",
    "conda install -c conda-forge  signac\n",
    "conda install -c glotzer  signac-flow\n",
    "```"
   ]
  },
  {
   "cell_type": "code",
   "execution_count": 1,
   "metadata": {},
   "outputs": [],
   "source": [
    "import signac\n",
    "import flow\n",
    "import numpy as np\n",
    "\n",
    "\n",
    "# Enter the signac project directory\n",
    "project = signac.init_project('FlowTutorialProject', 'projects/tutorial-signac-flow')"
   ]
  },
  {
   "cell_type": "markdown",
   "metadata": {},
   "source": [
    "We want to generate a pressure-volume (p-V) phase diagram for an ideal gas.\n",
    "\n",
    "We define a function to calculate the result for a given state point:"
   ]
  },
  {
   "cell_type": "code",
   "execution_count": 2,
   "metadata": {},
   "outputs": [],
   "source": [
    "def V_idg(N, p, kT):\n",
    "    return N * kT / p"
   ]
  },
  {
   "cell_type": "markdown",
   "metadata": {},
   "source": [
    "We want to use **signac** to manage our data, therefore we define an *operation* which has only the *signac job* as argument:"
   ]
  },
  {
   "cell_type": "code",
   "execution_count": 3,
   "metadata": {},
   "outputs": [],
   "source": [
    "def compute_volume(job):\n",
    "    job.document['V'] = V_idg(** job.statepoint())"
   ]
  },
  {
   "cell_type": "markdown",
   "metadata": {},
   "source": [
    "For this demonstration we will specialize a `flow.FlowProject` to manage our simple *workflow*.\n",
    "\n",
    "The workflow is controlled by two core functions: `label()` and `next_operation()`:\n",
    " - The `labels()` function allows us to *label* our jobs and get a good overview of the project *status*. This is especially important once the data space becomes larger and more complex and operations more expensive.\n",
    " - The `next_operation()` functions helps to automate the workflow by identifying the next required operation for each job.\n",
    " \n",
    " In this case there is only **one** operation:"
   ]
  },
  {
   "cell_type": "code",
   "execution_count": 6,
   "metadata": {},
   "outputs": [],
   "source": [
    "class MyProject(flow.FlowProject):\n",
    "    \n",
    "    def labels(self, job):\n",
    "        yield 'init'\n",
    "        if 'V' in job.document:\n",
    "            yield 'estimated'\n",
    "    \n",
    "    def next_operation(self, job):\n",
    "        labels = set(self.labels(job))\n",
    "        if 'V' not in job.document:\n",
    "            return 'compute_volume'"
   ]
  },
  {
   "cell_type": "markdown",
   "metadata": {},
   "source": [
    "We need to use the `get_project()` *class method* to get a project handle for this special project class."
   ]
  },
  {
   "cell_type": "code",
   "execution_count": 7,
   "metadata": {},
   "outputs": [],
   "source": [
    "project = MyProject.get_project(root='projects/tutorial-signac-flow')"
   ]
  },
  {
   "cell_type": "markdown",
   "metadata": {},
   "source": [
    "Now it's time to actually generate some data! Let's initialize the data space!\n"
   ]
  },
  {
   "cell_type": "code",
   "execution_count": 8,
   "metadata": {},
   "outputs": [],
   "source": [
    "for p in np.linspace(0.5, 5.0, 10):\n",
    "    sp = dict(N=1728, kT=1.0, p=p)\n",
    "    project.open_job(sp).init()"
   ]
  },
  {
   "cell_type": "markdown",
   "metadata": {},
   "source": [
    "The `print_status()` function allows to get a quick overview of our project's *status*:"
   ]
  },
  {
   "cell_type": "code",
   "execution_count": 9,
   "metadata": {},
   "outputs": [
    {
     "name": "stderr",
     "output_type": "stream",
     "text": [
      "Collecting job status info: 100%|██████████| 10/10 [00:00<00:00, 1784.81it/s]"
     ]
    },
    {
     "name": "stdout",
     "output_type": "stream",
     "text": [
      "\n",
      "Overview:\n",
      "\n",
      "Total # of jobs: 10\n",
      "\n",
      "label    ratio\n",
      "-------  --------------------------------------------------\n",
      "init     |████████████████████████████████████████| 100.00%\n",
      "\n",
      "operation\n",
      "-----------\n",
      "\n",
      "\n",
      "Detailed View:\n",
      "\n",
      "job_id                            operation      p  labels\n",
      "--------------------------------  -----------  ---  --------\n",
      "f3f3c351f81acd2140edd239b9183af4  [ ]          3.5  init\n",
      "4b299db86ff480f92e520eac91112108  [ ]          1.5  init\n",
      "26e2f19b5b211edb80ebe60a5a62bd75  [ ]          2    init\n",
      "46859989efcfd89653fa65db2375884b  [ ]          3    init\n",
      "6f9bc79d670e42d4a40041ce7be9cdaf  [ ]          5    init\n",
      "b38e30524c2c36e3ebfe50481eb91992  [ ]          4    init\n",
      "75c10d0fa7a4f4b4742ce5e9c119e8bd  [ ]          2.5  init\n",
      "bb277ac022ce744d38f9e87c1fabe08c  [ ]          4.5  init\n",
      "55d4d6ebbc04a1f8a259a2c5de197328  [ ]          1    init\n",
      "a14ee3104f26974b22bb84f62500c84d  [ ]          0.5  init\n",
      "\n",
      "[U]:unknown [R]:registered [Q]:queued [A]:active [I]:inactive [!]:requires_attention\n",
      "\n",
      "\n"
     ]
    },
    {
     "name": "stderr",
     "output_type": "stream",
     "text": [
      "\n"
     ]
    },
    {
     "data": {
      "text/plain": [
       "<flow.render_status.Renderer at 0x7f57eef9a860>"
      ]
     },
     "execution_count": 9,
     "metadata": {},
     "output_type": "execute_result"
    }
   ],
   "source": [
    "project.print_status(detailed=True, parameters=['p'])"
   ]
  },
  {
   "cell_type": "markdown",
   "metadata": {},
   "source": [
    "The next cell will attempt to execute all operations by cycling through jobs and operations until no *next operations* are defined anymore.\n",
    "\n",
    "We limit the max. number of cycles to prevent accidental infinite loops, the number of cycles is arbitrary."
   ]
  },
  {
   "cell_type": "code",
   "execution_count": 10,
   "metadata": {},
   "outputs": [
    {
     "name": "stdout",
     "output_type": "stream",
     "text": [
      "execute f3f3c351f81acd2140edd239b9183af4 compute_volume\n",
      "execute 4b299db86ff480f92e520eac91112108 compute_volume\n",
      "execute 26e2f19b5b211edb80ebe60a5a62bd75 compute_volume\n",
      "execute 46859989efcfd89653fa65db2375884b compute_volume\n",
      "execute 6f9bc79d670e42d4a40041ce7be9cdaf compute_volume\n",
      "execute b38e30524c2c36e3ebfe50481eb91992 compute_volume\n",
      "execute 75c10d0fa7a4f4b4742ce5e9c119e8bd compute_volume\n",
      "execute bb277ac022ce744d38f9e87c1fabe08c compute_volume\n",
      "execute 55d4d6ebbc04a1f8a259a2c5de197328 compute_volume\n",
      "execute a14ee3104f26974b22bb84f62500c84d compute_volume\n"
     ]
    }
   ],
   "source": [
    "for i in range(3):\n",
    "    for job in project:\n",
    "        for j in range(5):\n",
    "            next_op = project.next_operation(job)\n",
    "            if next_op is None:\n",
    "                break\n",
    "            print('execute', job, next_op)\n",
    "            globals()[next_op](job)\n",
    "            assert next_op != project.next_operation(job)\n",
    "        else:\n",
    "            raise RuntimeError(\"Reached max. # cycle limit!\")"
   ]
  },
  {
   "cell_type": "markdown",
   "metadata": {},
   "source": [
    "Let's double check the project status."
   ]
  },
  {
   "cell_type": "code",
   "execution_count": 11,
   "metadata": {},
   "outputs": [
    {
     "name": "stderr",
     "output_type": "stream",
     "text": [
      "Collecting job status info: 100%|██████████| 10/10 [00:00<00:00, 345.22it/s]"
     ]
    },
    {
     "name": "stdout",
     "output_type": "stream",
     "text": [
      "\n",
      "Overview:\n",
      "\n",
      "Total # of jobs: 10\n",
      "\n",
      "label      ratio\n",
      "---------  --------------------------------------------------\n",
      "init       |████████████████████████████████████████| 100.00%\n",
      "estimated  |████████████████████████████████████████| 100.00%\n",
      "\n",
      "operation\n",
      "-----------\n",
      "\n",
      "\n",
      "\n"
     ]
    },
    {
     "name": "stderr",
     "output_type": "stream",
     "text": [
      "\n"
     ]
    },
    {
     "data": {
      "text/plain": [
       "<flow.render_status.Renderer at 0x7f57efff5e48>"
      ]
     },
     "execution_count": 11,
     "metadata": {},
     "output_type": "execute_result"
    }
   ],
   "source": [
    "project.print_status()"
   ]
  },
  {
   "cell_type": "markdown",
   "metadata": {},
   "source": [
    "After running all operations we can make a brief examination of the collected data."
   ]
  },
  {
   "cell_type": "code",
   "execution_count": 12,
   "metadata": {},
   "outputs": [
    {
     "name": "stdout",
     "output_type": "stream",
     "text": [
      "3.5 493.7142857142857\n",
      "1.5 1152.0\n",
      "2.0 864.0\n",
      "3.0 576.0\n",
      "5.0 345.6\n",
      "4.0 432.0\n",
      "2.5 691.2\n",
      "4.5 384.0\n",
      "1.0 1728.0\n",
      "0.5 3456.0\n"
     ]
    }
   ],
   "source": [
    "for job in project:\n",
    "    print(job.statepoint()['p'], job.document.get('V'))"
   ]
  },
  {
   "cell_type": "markdown",
   "metadata": {},
   "source": [
    "For a better presentation of the results we need to aggregate all results and sort them by pressure."
   ]
  },
  {
   "cell_type": "code",
   "execution_count": 13,
   "metadata": {},
   "outputs": [
    {
     "name": "stdout",
     "output_type": "stream",
     "text": [
      "[3456.0, 1728.0, 1152.0, 864.0, 691.2, 576.0, 493.7142857142857, 432.0, 384.0, 345.6]\n"
     ]
    },
    {
     "data": {
      "text/plain": [
       "<matplotlib.legend.Legend at 0x7f57ee89c208>"
      ]
     },
     "execution_count": 13,
     "metadata": {},
     "output_type": "execute_result"
    },
    {
     "data": {
      "image/png": "[encoded data removed]",
      "text/plain": [
       "<Figure size 432x288 with 1 Axes>"
      ]
     },
     "metadata": {
      "needs_background": "light"
     },
     "output_type": "display_data"
    }
   ],
   "source": [
    "from matplotlib import pyplot as plt\n",
    "%matplotlib inline\n",
    "\n",
    "V = dict()\n",
    "\n",
    "for job in project:\n",
    "    V[job.statepoint()['p']] = job.document['V']\n",
    "    \n",
    "p = sorted(V.keys())\n",
    "V = [V[p_] for p_ in p]\n",
    "print(V)\n",
    "\n",
    "plt.plot(p, V, label='idG')\n",
    "plt.xlabel(r'pressure [$\\epsilon / \\sigma^3$]')\n",
    "plt.ylabel(r'volume [$\\sigma^3$]')\n",
    "plt.legend()"
   ]
  },
  {
   "cell_type": "markdown",
   "metadata": {},
   "source": [
    "As a a final step, we ca generate a index of our project data.\n",
    "You can store this index in a variable or within a database, e.g., for search operations."
   ]
  },
  {
   "cell_type": "code",
   "execution_count": null,
   "metadata": {
    "scrolled": true
   },
   "outputs": [],
   "source": [
    "for doc in project.index():\n",
    "    print(doc)"
   ]
  },
  {
   "cell_type": "markdown",
   "metadata": {},
   "source": [
    "Uncomment and execute the following line to remove all data and start over."
   ]
  },
  {
   "cell_type": "code",
   "execution_count": 5,
   "metadata": {},
   "outputs": [],
   "source": [
    "#% rm -r projects/tutorial-signac-flow/workspace"
   ]
  }
 ],
 "metadata": {
  "kernelspec": {
   "display_name": "Python 3",
   "language": "python",
   "name": "python3"
  },
  "language_info": {
   "codemirror_mode": {
    "name": "ipython",
    "version": 3
   },
   "file_extension": ".py",
   "mimetype": "text/x-python",
   "name": "python",
   "nbconvert_exporter": "python",
   "pygments_lexer": "ipython3",
   "version": "3.6.9"
  }
 },
 "nbformat": 4,
 "nbformat_minor": 1
}
